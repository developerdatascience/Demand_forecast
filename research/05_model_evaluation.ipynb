{
 "cells": [
  {
   "cell_type": "code",
   "execution_count": 1,
   "metadata": {},
   "outputs": [
    {
     "data": {
      "text/plain": [
       "'/Users/harendrakumar/Documents/Demand_forecast/research'"
      ]
     },
     "execution_count": 1,
     "metadata": {},
     "output_type": "execute_result"
    }
   ],
   "source": [
    "import os\n",
    "%pwd"
   ]
  },
  {
   "cell_type": "code",
   "execution_count": 2,
   "metadata": {},
   "outputs": [
    {
     "data": {
      "text/plain": [
       "'/Users/harendrakumar/Documents/Demand_forecast'"
      ]
     },
     "execution_count": 2,
     "metadata": {},
     "output_type": "execute_result"
    }
   ],
   "source": [
    "os.chdir(\"../\")\n",
    "%pwd"
   ]
  },
  {
   "cell_type": "code",
   "execution_count": 3,
   "metadata": {},
   "outputs": [],
   "source": [
    "os.environ['MLFLOW_TRACKING_URI']= \"https://dagshub.com/developerdatascience/Demand_forecast.mlflow\"\n",
    "os.environ['MLFLOW_TRACKING_USERNAME']=\"developerdatascience\"\n",
    "os.environ['MLFLOW_TRACKING_PASSWORD']=\"3f1565218d6ec2d42985b700ffecee09de158b93\""
   ]
  },
  {
   "cell_type": "code",
   "execution_count": 4,
   "metadata": {},
   "outputs": [],
   "source": [
    "from dataclasses import dataclass\n",
    "from pathlib import Path"
   ]
  },
  {
   "cell_type": "code",
   "execution_count": 5,
   "metadata": {},
   "outputs": [],
   "source": [
    "@dataclass(frozen=True)\n",
    "class ModelEvaluationConfig:\n",
    "    root_dir: Path\n",
    "    test_data_path: Path\n",
    "    train_data_path: Path\n",
    "    model_path: Path\n",
    "    fcst_params: dict\n",
    "    all_inventory_params: dict\n",
    "    metric_file_name: Path\n",
    "    target_column: str\n",
    "    mlflow_uri: str"
   ]
  },
  {
   "cell_type": "code",
   "execution_count": 6,
   "metadata": {},
   "outputs": [],
   "source": [
    "from Demand_Forecast.constants import *\n",
    "from Demand_Forecast.utils.common import read_yaml, create_directories, save_json"
   ]
  },
  {
   "cell_type": "code",
   "execution_count": 7,
   "metadata": {},
   "outputs": [],
   "source": [
    "class ConfigurationManager:\n",
    "    def __init__(self, \n",
    "                 config_filepath= CONFIG_FILE_PATH,\n",
    "                 schema_filepath= SCHEMA_FILE_PATH,\n",
    "                 params_filepath= PARAMS_FILE_PATH) -> None:\n",
    "        self.config = read_yaml(config_filepath)\n",
    "        self.schema = read_yaml(schema_filepath)\n",
    "        self.params = read_yaml(params_filepath)\n",
    "\n",
    "        create_directories([self.config.artifact_roots])\n",
    "    \n",
    "    def get_model_evaluation_config(self) ->ModelEvaluationConfig:\n",
    "        config = self.config.model_evaluation\n",
    "        fcst_params = self.params.Forecast\n",
    "        inventory_params = self.params.Inventory\n",
    "        schema = self.schema.TARGET_COLUMN\n",
    "\n",
    "        create_directories([config.root_dir])\n",
    "\n",
    "        return ModelEvaluationConfig(\n",
    "            root_dir=config.root_dir,\n",
    "            test_data_path=config.test_data_path,\n",
    "            train_data_path= config.train_data_path,\n",
    "            model_path= config.model_path,\n",
    "            fcst_params= fcst_params,\n",
    "            all_inventory_params=inventory_params,\n",
    "            metric_file_name= config.metric_file_name,\n",
    "            target_column= schema.name,\n",
    "            mlflow_uri= \"https://dagshub.com/developerdatascience/Demand_forecast.mlflow\"\n",
    "        )"
   ]
  },
  {
   "cell_type": "code",
   "execution_count": 8,
   "metadata": {},
   "outputs": [
    {
     "name": "stdout",
     "output_type": "stream",
     "text": [
      "[2023-10-21 16:54:11,106: INFO: utils: NumExpr defaulting to 8 threads.]\n"
     ]
    }
   ],
   "source": [
    "import os\n",
    "import pandas as pd\n",
    "from sklearn.metrics import mean_squared_error, mean_absolute_error, r2_score\n",
    "from urllib.parse import urlparse\n",
    "import mlflow\n",
    "import mlflow.sklearn\n",
    "import numpy as np\n",
    "import joblib\n"
   ]
  },
  {
   "cell_type": "code",
   "execution_count": 9,
   "metadata": {},
   "outputs": [],
   "source": [
    "class ModelEvaluation:\n",
    "    def __init__(self, config: ModelEvaluationConfig) -> None:\n",
    "        self.config = config\n",
    "    \n",
    "    @staticmethod\n",
    "    def eval_metrics(actual, pred):\n",
    "        rmse = np.sqrt(mean_squared_error(actual, pred))\n",
    "        mae = mean_absolute_error(actual, pred)\n",
    "        r2 = r2_score(actual, pred)\n",
    "        return rmse, mae, r2\n",
    "    \n",
    "    @staticmethod\n",
    "    def load_data(df):\n",
    "        df = df[['Date', 'Product_ID', 'Demand', 'Inventory']]\n",
    "        df = df.set_index('Date')\n",
    "        df = df['Demand']\n",
    "        return df\n",
    "    \n",
    "    def log_into_mlflow(self):\n",
    "        test = self.load_data(df=pd.read_csv(self.config.test_data_path))\n",
    "        train = self.load_data(df=pd.read_csv(self.config.train_data_path))\n",
    "        model = joblib.load(self.config.model_path)\n",
    "\n",
    "        mlflow.set_registry_uri(self.config.mlflow_uri)\n",
    "        tracking_url_type_store = urlparse(mlflow.get_tracking_uri()).scheme\n",
    "\n",
    "        with mlflow.start_run():\n",
    "            model_fit = model.fit(disp=False)\n",
    "            predictions = model_fit.predict(start=len(train), end=len(train) + len(test) -1)\n",
    "            predictions = predictions.astype(int)\n",
    "\n",
    "            (rmse, mae, r2) = self.eval_metrics(actual=test, pred=predictions)\n",
    "\n",
    "            #saving metrics as local\n",
    "            scores = {\"rmse\": rmse, \"mae\": mae, \"r2\": r2}\n",
    "            save_json(path = Path(self.config.metric_file_name), data=scores)\n",
    "\n",
    "            mlflow.log_params(self.config.fcst_params)\n",
    "            mlflow.log_params(self.config.all_inventory_params)\n",
    "            mlflow.log_metric(\"rmse\", rmse)\n",
    "            mlflow.log_metric(\"r2\", r2)\n",
    "            mlflow.log_metric(\"mae\", mae)\n",
    "\n",
    "            if tracking_url_type_store != \"file\":\n",
    "                mlflow.sklearn.log_model(model, \"model\", registered_model_name=\"Time Series-SARIMAX\")\n",
    "            else:\n",
    "                mlflow.sklearn.log_model(model, \"model\")"
   ]
  },
  {
   "cell_type": "code",
   "execution_count": 10,
   "metadata": {},
   "outputs": [
    {
     "name": "stdout",
     "output_type": "stream",
     "text": [
      "[2023-10-21 16:54:12,391: INFO: common: yaml file: config/config.yaml loaded successfully]\n",
      "[2023-10-21 16:54:12,394: INFO: common: yaml file: schema.yaml loaded successfully]\n",
      "[2023-10-21 16:54:12,396: INFO: common: yaml file: params.yaml loaded successfully]\n",
      "[2023-10-21 16:54:12,397: INFO: common: created directory at: artifacts]\n",
      "[2023-10-21 16:54:12,398: INFO: common: created directory at: artifacts/model_evaluation]\n",
      "[2023-10-21 16:54:22,118: INFO: common: json file saved at: artifacts/model_evaluation/metrics.json]\n"
     ]
    },
    {
     "name": "stderr",
     "output_type": "stream",
     "text": [
      "/Users/harendrakumar/.local/share/virtualenvs/ETL-6mpoCg48/lib/python3.10/site-packages/_distutils_hack/__init__.py:30: UserWarning: Setuptools is replacing distutils.\n",
      "  warnings.warn(\"Setuptools is replacing distutils.\")\n",
      "Registered model 'Time Series-SARIMAX' already exists. Creating a new version of this model...\n",
      "2023/10/21 16:54:57 INFO mlflow.tracking._model_registry.client: Waiting up to 300 seconds for model version to finish creation.                     Model name: Time Series-SARIMAX, version 2\n",
      "Created version '2' of model 'Time Series-SARIMAX'.\n"
     ]
    }
   ],
   "source": [
    "try:\n",
    "    config = ConfigurationManager()\n",
    "    model_evaluation_config = config.get_model_evaluation_config()\n",
    "    model_evaluation = ModelEvaluation(config=model_evaluation_config)\n",
    "    model_evaluation.log_into_mlflow()\n",
    "except Exception as e:\n",
    "    raise e"
   ]
  },
  {
   "cell_type": "code",
   "execution_count": null,
   "metadata": {},
   "outputs": [],
   "source": []
  },
  {
   "cell_type": "code",
   "execution_count": null,
   "metadata": {},
   "outputs": [],
   "source": []
  }
 ],
 "metadata": {
  "kernelspec": {
   "display_name": "ETL-6mpoCg48",
   "language": "python",
   "name": "python3"
  },
  "language_info": {
   "codemirror_mode": {
    "name": "ipython",
    "version": 3
   },
   "file_extension": ".py",
   "mimetype": "text/x-python",
   "name": "python",
   "nbconvert_exporter": "python",
   "pygments_lexer": "ipython3",
   "version": "3.10.2"
  }
 },
 "nbformat": 4,
 "nbformat_minor": 2
}
