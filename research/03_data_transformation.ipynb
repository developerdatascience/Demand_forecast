{
 "cells": [
  {
   "cell_type": "code",
   "execution_count": 1,
   "metadata": {},
   "outputs": [],
   "source": [
    "import os"
   ]
  },
  {
   "cell_type": "code",
   "execution_count": 2,
   "metadata": {},
   "outputs": [
    {
     "data": {
      "text/plain": [
       "'/Users/harendrakumar/Documents/Demand_forecast/research'"
      ]
     },
     "execution_count": 2,
     "metadata": {},
     "output_type": "execute_result"
    }
   ],
   "source": [
    "%pwd"
   ]
  },
  {
   "cell_type": "code",
   "execution_count": 3,
   "metadata": {},
   "outputs": [
    {
     "data": {
      "text/plain": [
       "'/Users/harendrakumar/Documents/Demand_forecast'"
      ]
     },
     "execution_count": 3,
     "metadata": {},
     "output_type": "execute_result"
    }
   ],
   "source": [
    "os.chdir(\"../\")\n",
    "%pwd"
   ]
  },
  {
   "cell_type": "code",
   "execution_count": 4,
   "metadata": {},
   "outputs": [],
   "source": [
    "from dataclasses import dataclass\n",
    "from pathlib import Path"
   ]
  },
  {
   "cell_type": "code",
   "execution_count": 5,
   "metadata": {},
   "outputs": [],
   "source": [
    "@dataclass(frozen=True)\n",
    "class DataTransformationConfig:\n",
    "    root_dir: Path\n",
    "    data_path: Path"
   ]
  },
  {
   "cell_type": "code",
   "execution_count": 6,
   "metadata": {},
   "outputs": [],
   "source": [
    "from Demand_Forecast.constants import *\n",
    "from Demand_Forecast.utils.common import read_yaml, create_directories"
   ]
  },
  {
   "cell_type": "code",
   "execution_count": 7,
   "metadata": {},
   "outputs": [],
   "source": [
    "class ConfigurationManager:\n",
    "    def __init__(self, \n",
    "                 config_filepath = CONFIG_FILE_PATH,\n",
    "                 schema_filepath = SCHEMA_FILE_PATH,\n",
    "                 params_filepath = PARAMS_FILE_PATH) ->None:\n",
    "        self.config = read_yaml(config_filepath)\n",
    "        self.schema = read_yaml(schema_filepath)\n",
    "        self.params = read_yaml(params_filepath)\n",
    "\n",
    "        create_directories([self.config.artifact_roots])\n",
    "\n",
    "    def get_data_transformation_config(self) -> DataTransformationConfig:\n",
    "        config = self.config.data_transformation\n",
    "\n",
    "        create_directories([config.root_dir])\n",
    "        return DataTransformationConfig(\n",
    "            root_dir= config.root_dir,\n",
    "            data_path= config.data_path\n",
    "        )"
   ]
  },
  {
   "cell_type": "code",
   "execution_count": 8,
   "metadata": {},
   "outputs": [
    {
     "name": "stdout",
     "output_type": "stream",
     "text": [
      "[2023-10-21 15:48:43,445: INFO: utils: NumExpr defaulting to 8 threads.]\n"
     ]
    }
   ],
   "source": [
    "import os\n",
    "import pandas as pd\n",
    "from sklearn.model_selection import train_test_split\n",
    "from Demand_Forecast import logger"
   ]
  },
  {
   "cell_type": "code",
   "execution_count": 9,
   "metadata": {},
   "outputs": [],
   "source": [
    "class DataTransforamtion:\n",
    "    def __init__(self, config: DataTransformationConfig) ->None:\n",
    "        self.config = config\n",
    "    \n",
    "    def convert_dtypes(self,data: pd.DataFrame, column_name: str, new_dtypes: str) ->pd.DataFrame:\n",
    "        \"\"\"\n",
    "        Convert the data type of a specific column in the DataFrame.\n",
    "\n",
    "        Args:\n",
    "            data (pd.DataFrame): The DataFrame containing the data.\n",
    "            column_name (str): The name of the column to be converted.\n",
    "            new_data_type (str): The desired data type for the column.\n",
    "                Supported types: 'str', 'int', 'float', 'datetime'.\n",
    "\n",
    "        Returns:\n",
    "            pd.DataFrame: The DataFrame with the converted column.\n",
    "        \"\"\"\n",
    "        if new_dtypes == \"str\":\n",
    "            data[column_name] = data[column_name].astype(str)\n",
    "            logger.info(f\"Data type conversion of {column_name} to {new_dtypes} completed Successfully\")\n",
    "        elif new_dtypes == \"int64\":\n",
    "            data[column_name] = data[column_name].astype(\"int64\")\n",
    "            logger.info(f\"Data type conversion of {column_name} to {new_dtypes} completed Successfully\")\n",
    "        elif new_dtypes == \"float64\":\n",
    "            data[column_name] = data[column_name].astype(\"float64\")\n",
    "            logger.info(f\"Data type conversion of {column_name} to {new_dtypes} completed Successfully\")\n",
    "        elif new_dtypes == \"datetime\":\n",
    "            data[column_name] = pd.to_datetime(data[column_name], errors='coerce')\n",
    "            logger.info(f\"Data type conversion of {column_name} to {new_dtypes} completed Successfully\")\n",
    "        else:\n",
    "            logger.info(f\"Data type conversion of {column_name} to {new_dtypes} could not be completed\")\n",
    "            raise ValueError(\"Unsupported data type conversion\")\n",
    "        \n",
    "        return data\n",
    "            \n",
    "        \n",
    "    \n",
    "    def train_test_split(self) ->None:\n",
    "        data= pd.read_csv(self.config.data_path)\n",
    "        data = self.convert_dtypes(data=data, column_name='Date', new_dtypes='datetime')\n",
    "        data = data[['Date', 'Product_ID', 'Demand', 'Inventory']]\n",
    "        # data = data.set_index('Date')\n",
    "        # data.sort_index(ascending=True, inplace=True)\n",
    "        train, test = train_test_split(data, shuffle=False)\n",
    "        train.to_csv(os.path.join(self.config.root_dir, \"train.csv\"), index=True)\n",
    "        test.to_csv(os.path.join(self.config.root_dir, \"test.csv\"), index=True)\n",
    "\n",
    "        logger.info(\"Splitted data into training and test data\")\n",
    "        logger.info(train.shape)\n",
    "        logger.info(test.shape)"
   ]
  },
  {
   "cell_type": "code",
   "execution_count": 10,
   "metadata": {},
   "outputs": [
    {
     "name": "stdout",
     "output_type": "stream",
     "text": [
      "[2023-10-21 15:48:45,086: INFO: common: yaml file: config/config.yaml loaded successfully]\n",
      "[2023-10-21 15:48:45,089: INFO: common: yaml file: schema.yaml loaded successfully]\n",
      "[2023-10-21 15:48:45,091: INFO: common: yaml file: params.yaml loaded successfully]\n",
      "[2023-10-21 15:48:45,092: INFO: common: created directory at: artifacts]\n",
      "[2023-10-21 15:48:45,092: INFO: common: created directory at: artifacts/data_transformation]\n",
      "[2023-10-21 15:48:45,097: INFO: 1336587283: Data type conversion of Date to datetime completed Successfully]\n",
      "[2023-10-21 15:48:45,102: INFO: 1336587283: Splitted data into training and test data]\n",
      "[2023-10-21 15:48:45,103: INFO: 1336587283: (46, 4)]\n",
      "[2023-10-21 15:48:45,104: INFO: 1336587283: (16, 4)]\n"
     ]
    }
   ],
   "source": [
    "try:\n",
    "    config = ConfigurationManager()\n",
    "    data_transformation_config = config.get_data_transformation_config()\n",
    "    data_transformation = DataTransforamtion(config=data_transformation_config)\n",
    "    data_transformation.train_test_split()\n",
    "except Exception as e:\n",
    "    logger.info(e)\n",
    "    raise e"
   ]
  },
  {
   "cell_type": "code",
   "execution_count": null,
   "metadata": {},
   "outputs": [],
   "source": []
  }
 ],
 "metadata": {
  "kernelspec": {
   "display_name": "ETL-6mpoCg48",
   "language": "python",
   "name": "python3"
  },
  "language_info": {
   "codemirror_mode": {
    "name": "ipython",
    "version": 3
   },
   "file_extension": ".py",
   "mimetype": "text/x-python",
   "name": "python",
   "nbconvert_exporter": "python",
   "pygments_lexer": "ipython3",
   "version": "3.10.2"
  }
 },
 "nbformat": 4,
 "nbformat_minor": 2
}
