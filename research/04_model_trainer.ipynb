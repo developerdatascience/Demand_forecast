{
 "cells": [
  {
   "cell_type": "code",
   "execution_count": 1,
   "metadata": {},
   "outputs": [
    {
     "data": {
      "text/plain": [
       "'/Users/harendrakumar/Documents/Demand_forecast'"
      ]
     },
     "execution_count": 1,
     "metadata": {},
     "output_type": "execute_result"
    }
   ],
   "source": [
    "import os\n",
    "\n",
    "%pwd\n",
    "\n",
    "os.chdir(\"../\")\n",
    "%pwd"
   ]
  },
  {
   "cell_type": "code",
   "execution_count": 2,
   "metadata": {},
   "outputs": [],
   "source": [
    "import pandas as pd\n",
    "import numpy as np\n",
    "import plotly.express as px\n",
    "from statsmodels.graphics.tsaplots import plot_acf, plot_pacf\n",
    "import matplotlib.pyplot as plt\n",
    "from statsmodels.tsa.statespace.sarimax import SARIMAX\n",
    "import os\n",
    "from typing import Dict, Any, Tuple\n",
    "from pathlib import Path\n",
    "import joblib\n",
    "\n",
    "from dataclasses import dataclass"
   ]
  },
  {
   "cell_type": "code",
   "execution_count": 3,
   "metadata": {},
   "outputs": [],
   "source": [
    "from Demand_Forecast.constants import *\n",
    "from Demand_Forecast.utils.common import read_yaml, create_directories"
   ]
  },
  {
   "cell_type": "code",
   "execution_count": 4,
   "metadata": {},
   "outputs": [],
   "source": [
    "@dataclass(frozen=True)\n",
    "class ModelTrainerConfig:\n",
    "    root_dir: Path\n",
    "    train_data_path: Path\n",
    "    test_data_path: Path\n",
    "    model_name: str\n",
    "    order: Tuple[int, int, int]\n",
    "    seasonal_order: Tuple[int, int, int, int]\n",
    "    days_in_future: int\n",
    "    initial_inventory: int\n",
    "    lead_time: int\n",
    "    service_level: float\n",
    "    holding_cost: float\n",
    "    stockout_cost: int\n",
    "    target_column: str\n",
    "    "
   ]
  },
  {
   "cell_type": "code",
   "execution_count": 5,
   "metadata": {},
   "outputs": [],
   "source": [
    "class ConfigurationManager:\n",
    "    def __init__(self, \n",
    "                 config_filepath = CONFIG_FILE_PATH,\n",
    "                 schema_filepath = SCHEMA_FILE_PATH,\n",
    "                 params_filepath = PARAMS_FILE_PATH) -> None:\n",
    "        self.config = read_yaml(config_filepath)\n",
    "        self.schema = read_yaml(schema_filepath)\n",
    "        self.params = read_yaml(params_filepath)\n",
    "\n",
    "        create_directories([self.config.artifact_roots])\n",
    "    \n",
    "    def get_model_trainer(self):\n",
    "        config = self.config.model_trainer\n",
    "        schema = self.schema.TARGET_COLUMN\n",
    "        params = self.params.Inventory\n",
    "        fcst_parms = self.params.Forecast\n",
    "\n",
    "        create_directories([config.root_dir])\n",
    "        return ModelTrainerConfig(\n",
    "            root_dir= config.root_dir,\n",
    "            train_data_path= config.train_data_path,\n",
    "            test_data_path= config.test_data_path,\n",
    "            model_name= config.model_name,\n",
    "            order= fcst_parms.order,\n",
    "            seasonal_order= fcst_parms.seasonal_order,\n",
    "            days_in_future = fcst_parms.days_in_future,\n",
    "            initial_inventory= params.initial_inventory,\n",
    "            lead_time= params.lead_time,\n",
    "            service_level= params.service_level,\n",
    "            holding_cost= params.holding_cost,\n",
    "            stockout_cost= params.stockout_cost,\n",
    "            target_column= schema.name\n",
    "        )"
   ]
  },
  {
   "cell_type": "code",
   "execution_count": 6,
   "metadata": {},
   "outputs": [],
   "source": [
    "class ModelTrainer:\n",
    "    def __init__(self, config: ModelTrainerConfig) -> None:\n",
    "        self.config = config\n",
    "\n",
    "    \n",
    "    @staticmethod\n",
    "    def parse_tuple(input):\n",
    "        return tuple(int(x) for x in input.strip('()').split(','))\n",
    "    \n",
    "    def predictions(self):\n",
    "        train = pd.read_csv(self.config.train_data_path)\n",
    "        test =  pd.read_csv(self.config.test_data_path)\n",
    "\n",
    "        train['Date'] = pd.to_datetime(train['Date'])\n",
    "        time_series = train.set_index('Date')['Demand']\n",
    "        order = self.parse_tuple(input=self.config.order)\n",
    "        seasonal_order = self.parse_tuple(input=self.config.seasonal_order)\n",
    "        model = SARIMAX(time_series, order= order, seasonal_order= seasonal_order)\n",
    "        model_fit = model.fit(disp=False)\n",
    "        joblib.dump(model, os.path.join(self.config.root_dir, self.config.model_name))\n",
    "\n",
    "        future_steps = self.config.days_in_future\n",
    "        predictions = model_fit.predict(len(time_series), len(time_series) + future_steps -1)\n",
    "        predictions = predictions.astype(int)\n",
    "        return predictions\n",
    "    \n",
    "    def inventory_manage(self) -> Dict[str, int]:\n",
    "        df = pd.read_csv(self.config.train_data_path)\n",
    "        df['Date'] = pd.to_datetime(df['Date'])\n",
    "        time_series = df.set_index('Date')['Demand']\n",
    "        predictions = self.predictions().to_list()\n",
    "        \n",
    "        future_dates = pd.date_range(start=time_series.index[-1] + pd.DateOffset(days=1), periods=self.config.days_in_future, freq='D')\n",
    "        forecasted_demand = pd.Series(predictions, index=future_dates)\n",
    "        # Initial Inventory level\n",
    "        initial_inventory = self.config.initial_inventory\n",
    "        # Lead time (No of days to replenish inventory)\n",
    "        lead_time = self.config.lead_time # it's different for every business, 1 is an example\n",
    "        # Service level (probability of not stocking out)\n",
    "        service_level = self.config.service_level # it's different for every business, 0.95 is an\n",
    "        # Calculate the optimal order quantity using the Newsvendor formula\n",
    "        z = np.abs(np.percentile(forecasted_demand, 100 * (1 - service_level)))\n",
    "        order_quantity = np.ceil(forecasted_demand.mean() + z).astype(int)\n",
    "        # Calculate the reorder point\n",
    "        reorder_point = forecasted_demand.mean() * lead_time + z\n",
    "        # Calculate the optimal safety stock\n",
    "        safety_stock = reorder_point - forecasted_demand.mean() * lead_time\n",
    "        # Calculate the total cost (holding cost + stockout cost)\n",
    "        holding_cost = self.config.holding_cost  # it's different for every business, 0.1 is an example\n",
    "        stockout_cost = self.config.stockout_cost  # # it's different for every business, 10 is an example\n",
    "        total_holding_cost = holding_cost * (initial_inventory + 0.5 * order_quantity)\n",
    "        total_stockout_cost = stockout_cost * np.maximum(0, forecasted_demand.mean() * lead_time - initial_inventory)\n",
    "\n",
    "        # Calculate the total cost\n",
    "        total_cost = total_holding_cost + total_stockout_cost\n",
    "        return {\n",
    "            \"Optimal Order Quantity\" : order_quantity,\n",
    "            \"Reorder Point\": reorder_point,\n",
    "            \"Safety Stock\": safety_stock,\n",
    "            \"Total Cost\": total_cost\n",
    "        }\n",
    "        "
   ]
  },
  {
   "cell_type": "code",
   "execution_count": 7,
   "metadata": {},
   "outputs": [
    {
     "name": "stdout",
     "output_type": "stream",
     "text": [
      "[2023-10-20 21:03:03,053: INFO: common: yaml file: config/config.yaml loaded successfully]\n",
      "[2023-10-20 21:03:03,056: INFO: common: yaml file: schema.yaml loaded successfully]\n",
      "[2023-10-20 21:03:03,058: INFO: common: yaml file: params.yaml loaded successfully]\n",
      "[2023-10-20 21:03:03,059: INFO: common: created directory at: artifacts]\n",
      "[2023-10-20 21:03:03,060: INFO: common: created directory at: artifacts/model_trainer]\n",
      "{'Optimal Order Quantity': 250, 'Reorder Point': 249.95, 'Safety Stock': 118.85, 'Total Cost': 562.5}\n"
     ]
    },
    {
     "name": "stderr",
     "output_type": "stream",
     "text": [
      "/Users/harendrakumar/.local/share/virtualenvs/ETL-6mpoCg48/lib/python3.10/site-packages/statsmodels/tsa/base/tsa_model.py:471: ValueWarning: A date index has been provided, but it has no associated frequency information and so will be ignored when e.g. forecasting.\n",
      "  self._init_dates(dates, freq)\n",
      "/Users/harendrakumar/.local/share/virtualenvs/ETL-6mpoCg48/lib/python3.10/site-packages/statsmodels/tsa/base/tsa_model.py:471: ValueWarning: A date index has been provided, but it is not monotonic and so will be ignored when e.g. forecasting.\n",
      "  self._init_dates(dates, freq)\n",
      "/Users/harendrakumar/.local/share/virtualenvs/ETL-6mpoCg48/lib/python3.10/site-packages/statsmodels/tsa/base/tsa_model.py:471: ValueWarning: A date index has been provided, but it has no associated frequency information and so will be ignored when e.g. forecasting.\n",
      "  self._init_dates(dates, freq)\n",
      "/Users/harendrakumar/.local/share/virtualenvs/ETL-6mpoCg48/lib/python3.10/site-packages/statsmodels/tsa/base/tsa_model.py:471: ValueWarning: A date index has been provided, but it is not monotonic and so will be ignored when e.g. forecasting.\n",
      "  self._init_dates(dates, freq)\n",
      "/Users/harendrakumar/.local/share/virtualenvs/ETL-6mpoCg48/lib/python3.10/site-packages/statsmodels/tsa/base/tsa_model.py:834: ValueWarning: No supported index is available. Prediction results will be given with an integer index beginning at `start`.\n",
      "  return get_prediction_index(\n",
      "/Users/harendrakumar/.local/share/virtualenvs/ETL-6mpoCg48/lib/python3.10/site-packages/statsmodels/tsa/base/tsa_model.py:471: ValueWarning: A date index has been provided, but it has no associated frequency information and so will be ignored when e.g. forecasting.\n",
      "  self._init_dates(dates, freq)\n",
      "/Users/harendrakumar/.local/share/virtualenvs/ETL-6mpoCg48/lib/python3.10/site-packages/statsmodels/tsa/base/tsa_model.py:471: ValueWarning: A date index has been provided, but it is not monotonic and so will be ignored when e.g. forecasting.\n",
      "  self._init_dates(dates, freq)\n",
      "/Users/harendrakumar/.local/share/virtualenvs/ETL-6mpoCg48/lib/python3.10/site-packages/statsmodels/tsa/base/tsa_model.py:471: ValueWarning: A date index has been provided, but it has no associated frequency information and so will be ignored when e.g. forecasting.\n",
      "  self._init_dates(dates, freq)\n",
      "/Users/harendrakumar/.local/share/virtualenvs/ETL-6mpoCg48/lib/python3.10/site-packages/statsmodels/tsa/base/tsa_model.py:471: ValueWarning: A date index has been provided, but it is not monotonic and so will be ignored when e.g. forecasting.\n",
      "  self._init_dates(dates, freq)\n",
      "/Users/harendrakumar/.local/share/virtualenvs/ETL-6mpoCg48/lib/python3.10/site-packages/statsmodels/tsa/base/tsa_model.py:834: ValueWarning: No supported index is available. Prediction results will be given with an integer index beginning at `start`.\n",
      "  return get_prediction_index(\n"
     ]
    }
   ],
   "source": [
    "try:\n",
    "    config = ConfigurationManager()\n",
    "    model_trainer_config = config.get_model_trainer()\n",
    "    model_trainer = ModelTrainer(config=model_trainer_config)\n",
    "    predictions = model_trainer.predictions()\n",
    "    inventory_info = model_trainer.inventory_manage()\n",
    "    print(inventory_info)\n",
    "except Exception as e:\n",
    "    raise e"
   ]
  },
  {
   "cell_type": "code",
   "execution_count": null,
   "metadata": {},
   "outputs": [],
   "source": [
    "predictions"
   ]
  },
  {
   "cell_type": "code",
   "execution_count": null,
   "metadata": {},
   "outputs": [],
   "source": []
  }
 ],
 "metadata": {
  "kernelspec": {
   "display_name": "ETL-6mpoCg48",
   "language": "python",
   "name": "python3"
  },
  "language_info": {
   "codemirror_mode": {
    "name": "ipython",
    "version": 3
   },
   "file_extension": ".py",
   "mimetype": "text/x-python",
   "name": "python",
   "nbconvert_exporter": "python",
   "pygments_lexer": "ipython3",
   "version": "3.10.2"
  }
 },
 "nbformat": 4,
 "nbformat_minor": 2
}
