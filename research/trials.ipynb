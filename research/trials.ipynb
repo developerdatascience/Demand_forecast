{
 "cells": [
  {
   "cell_type": "code",
   "execution_count": 1,
   "metadata": {},
   "outputs": [],
   "source": [
    "import pandas as pd\n",
    "import numpy as np\n",
    "from statsmodels.tsa.statespace.sarimax import SARIMAX\n",
    "from sklearn.metrics import mean_squared_error, mean_absolute_error, r2_score\n",
    "from sklearn.model_selection import train_test_split\n",
    "import os\n",
    "\n",
    "pd.set_option(\"display.max_rows\", 500)"
   ]
  },
  {
   "cell_type": "code",
   "execution_count": 2,
   "metadata": {},
   "outputs": [
    {
     "data": {
      "text/plain": [
       "'/Users/harendrakumar/Documents/Demand_forecast/research'"
      ]
     },
     "execution_count": 2,
     "metadata": {},
     "output_type": "execute_result"
    }
   ],
   "source": [
    "%pwd"
   ]
  },
  {
   "cell_type": "code",
   "execution_count": 3,
   "metadata": {},
   "outputs": [],
   "source": [
    "os.chdir(\"../\")"
   ]
  },
  {
   "cell_type": "code",
   "execution_count": 4,
   "metadata": {},
   "outputs": [
    {
     "data": {
      "text/plain": [
       "'/Users/harendrakumar/Documents/Demand_forecast'"
      ]
     },
     "execution_count": 4,
     "metadata": {},
     "output_type": "execute_result"
    }
   ],
   "source": [
    "%pwd"
   ]
  },
  {
   "cell_type": "code",
   "execution_count": 5,
   "metadata": {},
   "outputs": [
    {
     "data": {
      "text/plain": [
       "RangeIndex(start=0, stop=46, step=1)"
      ]
     },
     "execution_count": 5,
     "metadata": {},
     "output_type": "execute_result"
    }
   ],
   "source": [
    "df = pd.read_csv(\"artifacts/data_transformation/train.csv\")\n",
    "df.index"
   ]
  },
  {
   "cell_type": "code",
   "execution_count": 6,
   "metadata": {},
   "outputs": [],
   "source": [
    "df['Date'] = pd.to_datetime(df['Date'])"
   ]
  },
  {
   "cell_type": "code",
   "execution_count": 7,
   "metadata": {},
   "outputs": [],
   "source": [
    "df = df[['Date', 'Product_ID', 'Demand', 'Inventory']]\n",
    "df = df.set_index('Date')"
   ]
  },
  {
   "cell_type": "code",
   "execution_count": 8,
   "metadata": {},
   "outputs": [],
   "source": [
    "df = df['Demand']"
   ]
  },
  {
   "cell_type": "code",
   "execution_count": 9,
   "metadata": {},
   "outputs": [
    {
     "data": {
      "text/plain": [
       "Date\n",
       "2023-06-01     51\n",
       "2023-06-02    141\n",
       "2023-06-03    172\n",
       "2023-06-04     91\n",
       "2023-06-05    198\n",
       "2023-06-06     70\n",
       "2023-06-07     95\n",
       "2023-06-08     53\n",
       "2023-06-09    136\n",
       "2023-06-10    168\n",
       "2023-06-11    126\n",
       "2023-06-12    135\n",
       "2023-06-13    198\n",
       "2023-06-14    135\n",
       "2023-06-15    120\n",
       "2023-06-16     67\n",
       "2023-06-17    190\n",
       "2023-06-18    196\n",
       "2023-06-19    125\n",
       "2023-06-20    143\n",
       "2023-06-21    107\n",
       "2023-06-22    108\n",
       "2023-06-23     56\n",
       "2023-06-24     69\n",
       "2023-06-25     52\n",
       "2023-06-26     93\n",
       "2023-06-27     83\n",
       "2023-06-28    135\n",
       "2023-06-29     56\n",
       "2023-06-30    152\n",
       "2023-07-01    142\n",
       "2023-07-02    183\n",
       "2023-07-03     98\n",
       "2023-07-04     95\n",
       "2023-07-05     78\n",
       "2023-07-06    108\n",
       "2023-07-07    191\n",
       "2023-07-08    146\n",
       "2023-07-09     84\n",
       "2023-07-10    125\n",
       "2023-07-11     70\n",
       "2023-07-12     96\n",
       "2023-07-13    130\n",
       "2023-07-14    174\n",
       "2023-07-15    157\n",
       "2023-07-16    128\n",
       "Name: Demand, dtype: int64"
      ]
     },
     "execution_count": 9,
     "metadata": {},
     "output_type": "execute_result"
    }
   ],
   "source": [
    "df"
   ]
  },
  {
   "cell_type": "code",
   "execution_count": 10,
   "metadata": {},
   "outputs": [
    {
     "data": {
      "text/plain": [
       "46"
      ]
     },
     "execution_count": 10,
     "metadata": {},
     "output_type": "execute_result"
    }
   ],
   "source": [
    "len(df)"
   ]
  },
  {
   "cell_type": "code",
   "execution_count": 11,
   "metadata": {},
   "outputs": [
    {
     "data": {
      "text/plain": [
       "Date\n",
       "2023-06-01     51\n",
       "2023-06-02    141\n",
       "2023-06-03    172\n",
       "2023-06-04     91\n",
       "2023-06-05    198\n",
       "2023-06-06     70\n",
       "2023-06-07     95\n",
       "2023-06-08     53\n",
       "2023-06-09    136\n",
       "2023-06-10    168\n",
       "2023-06-11    126\n",
       "2023-06-12    135\n",
       "2023-06-13    198\n",
       "2023-06-14    135\n",
       "2023-06-15    120\n",
       "2023-06-16     67\n",
       "2023-06-17    190\n",
       "2023-06-18    196\n",
       "2023-06-19    125\n",
       "2023-06-20    143\n",
       "2023-06-21    107\n",
       "2023-06-22    108\n",
       "2023-06-23     56\n",
       "2023-06-24     69\n",
       "2023-06-25     52\n",
       "2023-06-26     93\n",
       "2023-06-27     83\n",
       "2023-06-28    135\n",
       "2023-06-29     56\n",
       "2023-06-30    152\n",
       "2023-07-01    142\n",
       "2023-07-02    183\n",
       "2023-07-03     98\n",
       "2023-07-04     95\n",
       "2023-07-05     78\n",
       "2023-07-06    108\n",
       "2023-07-07    191\n",
       "2023-07-08    146\n",
       "2023-07-09     84\n",
       "2023-07-10    125\n",
       "2023-07-11     70\n",
       "2023-07-12     96\n",
       "2023-07-13    130\n",
       "2023-07-14    174\n",
       "2023-07-15    157\n",
       "2023-07-16    128\n",
       "Name: Demand, dtype: int64"
      ]
     },
     "execution_count": 11,
     "metadata": {},
     "output_type": "execute_result"
    }
   ],
   "source": [
    "df"
   ]
  },
  {
   "cell_type": "code",
   "execution_count": 12,
   "metadata": {},
   "outputs": [
    {
     "name": "stderr",
     "output_type": "stream",
     "text": [
      "/Users/harendrakumar/.local/share/virtualenvs/ETL-6mpoCg48/lib/python3.10/site-packages/statsmodels/tsa/base/tsa_model.py:471: ValueWarning: No frequency information was provided, so inferred frequency D will be used.\n",
      "  self._init_dates(dates, freq)\n",
      "/Users/harendrakumar/.local/share/virtualenvs/ETL-6mpoCg48/lib/python3.10/site-packages/statsmodels/tsa/base/tsa_model.py:471: ValueWarning: No frequency information was provided, so inferred frequency D will be used.\n",
      "  self._init_dates(dates, freq)\n"
     ]
    },
    {
     "data": {
      "text/plain": [
       "2023-07-17    118\n",
       "2023-07-18    131\n",
       "2023-07-19    118\n",
       "2023-07-20    132\n",
       "2023-07-21    119\n",
       "2023-07-22    132\n",
       "2023-07-23    119\n",
       "2023-07-24    133\n",
       "2023-07-25    120\n",
       "2023-07-26    133\n",
       "2023-07-27    120\n",
       "2023-07-28    134\n",
       "2023-07-29    120\n",
       "2023-07-30    134\n",
       "2023-07-31    121\n",
       "2023-08-01    134\n",
       "Freq: D, Name: predicted_mean, dtype: int64"
      ]
     },
     "execution_count": 12,
     "metadata": {},
     "output_type": "execute_result"
    }
   ],
   "source": [
    "model = SARIMAX(df, order= (1, 1, 1), seasonal_order= (1, 1, 1, 2))\n",
    "model_fit = model.fit(disp=False)\n",
    "predictions = model_fit.predict(start=len(df), end=len(df) + 16 -1)\n",
    "predictions = predictions.astype(int)\n",
    "predictions"
   ]
  },
  {
   "cell_type": "code",
   "execution_count": null,
   "metadata": {},
   "outputs": [],
   "source": [
    "future_dates = pd.date_range(start=df.index[-1] + pd.DateOffset(1), periods=16, freq='D')\n",
    "future_dates"
   ]
  },
  {
   "cell_type": "code",
   "execution_count": null,
   "metadata": {},
   "outputs": [],
   "source": [
    "predictions = predictions.to_list()\n",
    "pd.Series(data=predictions, index=future_dates)"
   ]
  },
  {
   "cell_type": "code",
   "execution_count": 13,
   "metadata": {},
   "outputs": [
    {
     "data": {
      "text/plain": [
       "Date\n",
       "2023-07-17    100\n",
       "2023-07-18    199\n",
       "2023-07-19     99\n",
       "2023-07-20     88\n",
       "2023-07-21    123\n",
       "2023-07-22     63\n",
       "2023-07-23    126\n",
       "2023-07-24    190\n",
       "2023-07-25    153\n",
       "2023-07-26     71\n",
       "2023-07-27    158\n",
       "2023-07-28    174\n",
       "2023-07-29     72\n",
       "2023-07-30     52\n",
       "2023-07-31    188\n",
       "2023-08-01    102\n",
       "Name: Demand, dtype: int64"
      ]
     },
     "execution_count": 13,
     "metadata": {},
     "output_type": "execute_result"
    }
   ],
   "source": [
    "test = pd.read_csv(\"artifacts/data_transformation/test.csv\")\n",
    "test['Date'] = pd.to_datetime(test['Date'])\n",
    "\n",
    "test = test.set_index(test['Date'])\n",
    "test = test['Demand']\n",
    "test"
   ]
  },
  {
   "cell_type": "code",
   "execution_count": 14,
   "metadata": {},
   "outputs": [],
   "source": [
    "def eval_metrics(actual, pred):\n",
    "        rmse = np.sqrt(mean_squared_error(actual, pred))\n",
    "        mae = mean_absolute_error(actual, pred)\n",
    "        r2 = r2_score(actual, pred)\n",
    "        return rmse, mae, r2"
   ]
  },
  {
   "cell_type": "code",
   "execution_count": 15,
   "metadata": {},
   "outputs": [
    {
     "data": {
      "text/plain": [
       "(48.629980464729776, 43.0, -0.052934751605295594)"
      ]
     },
     "execution_count": 15,
     "metadata": {},
     "output_type": "execute_result"
    }
   ],
   "source": [
    "eval_metrics(actual=test, pred=predictions)"
   ]
  },
  {
   "cell_type": "code",
   "execution_count": null,
   "metadata": {},
   "outputs": [],
   "source": []
  }
 ],
 "metadata": {
  "kernelspec": {
   "display_name": "ETL-6mpoCg48",
   "language": "python",
   "name": "python3"
  },
  "language_info": {
   "codemirror_mode": {
    "name": "ipython",
    "version": 3
   },
   "file_extension": ".py",
   "mimetype": "text/x-python",
   "name": "python",
   "nbconvert_exporter": "python",
   "pygments_lexer": "ipython3",
   "version": "3.10.2"
  }
 },
 "nbformat": 4,
 "nbformat_minor": 2
}
